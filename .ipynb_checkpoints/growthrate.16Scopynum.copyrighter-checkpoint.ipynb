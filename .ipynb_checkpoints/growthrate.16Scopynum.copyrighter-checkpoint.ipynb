{
 "cells": [
  {
   "cell_type": "markdown",
   "metadata": {},
   "source": [
    "# Estimate 16S copy numbers\n",
    "\n",
    "### Using [Copyrighter](https://github.com/fangly/AmpliCopyrighter)\n",
    "\n",
    "**Note:** I used the SILVA database for my main data analysis because it is more complete than GreenGenes. CopyRighter and other 16S copy number estimators require GreenGenes taxonomy, so I'll re-classify the ASVs generated in growthrate.16S.DADA2.pipeline.ipynb using GreenGenes and use that output for 16S copy number estimation. I can then use the ASV identifiers to relate my SILVA-based data to the 16S copy number estimates.\n",
    "\n",
    "I'm not interested in doing a community GCN correction, particularly given the results of this paper: https://doi.org/10.1186/2049-2618-2-11\n",
    "* Copyrighter seems to perform a little better than PAPRICA or PICRUSt at greater NSTD (see fig.2 ), so that's why I went with Coprighter.\n",
    "\n",
    "**Authorship:**\n",
    "Cassi Wattenburger 09/28/20\n",
    "\n",
    "Based on [Roli Wilhelm's DADA2 pipeline.](https://github.com/buckleylab/Buckley_lab_protocols/blob/master/amplicon_library_processing/QIIME2_Processing_Pipeline.ipynb)"
   ]
  },
  {
   "cell_type": "markdown",
   "metadata": {},
   "source": [
    "## References:\n",
    "\n",
    "**Copyrighter** <br>\n",
    "Angly, F. E. et al. CopyRighter: a rapid tool for improving the accuracy of microbial community profiles through lineage-specific gene copy number correction. Microbiome 2, 11 (2014).\n",
    "https://microbiomejournal.biomedcentral.com/articles/10.1186/s40168-018-0420-9\n",
    "    \n",
    "**GreenGenes** <br>\n"
   ]
  },
  {
   "cell_type": "markdown",
   "metadata": {},
   "source": [
    "## Version control:\n",
    "\n",
    "Qiime2.2\n"
   ]
  },
  {
   "cell_type": "markdown",
   "metadata": {},
   "source": [
    "## Step 0. Set up\n",
    "\n",
    "* Define directories and other parameters (user input)\n",
    "* Update classifer databases if needed"
   ]
  },
  {
   "cell_type": "code",
   "execution_count": null,
   "metadata": {},
   "outputs": [],
   "source": [
    "import os, re, numpy as np\n",
    "\n",
    "# Provide directory name of your project\n",
    "proj = \"\"\n",
    "\n",
    "# Provide the directory name of where the fasta sequences are located\n",
    "fastadir = \"\"\n",
    "\n",
    "# Number of processors to use (as string)\n",
    "processors = \"20\"\n",
    "\n",
    "# Minimum sequence identity for classifying sequences\n",
    "min_support = 0.8"
   ]
  },
  {
   "cell_type": "code",
   "execution_count": null,
   "metadata": {},
   "outputs": [],
   "source": [
    "# GreenGenes classifier database\n",
    "# Update this if their are compatability issues with QIIME2\n",
    "\n"
   ]
  },
  {
   "cell_type": "markdown",
   "metadata": {},
   "source": [
    "## Step 1. Reclassify ASVs using GreenGenes database \n",
    "\n",
    "**NOTE:** ASVs were already produced in Step 7 of growthrate.16S.DADA2.pipeline.ipynb"
   ]
  },
  {
   "cell_type": "code",
   "execution_count": null,
   "metadata": {},
   "outputs": [],
   "source": []
  }
 ],
 "metadata": {
  "kernelspec": {
   "display_name": "Python 3",
   "language": "python",
   "name": "python3"
  },
  "language_info": {
   "codemirror_mode": {
    "name": "ipython",
    "version": 3
   },
   "file_extension": ".py",
   "mimetype": "text/x-python",
   "name": "python",
   "nbconvert_exporter": "python",
   "pygments_lexer": "ipython3",
   "version": "3.7.6"
  }
 },
 "nbformat": 4,
 "nbformat_minor": 4
}
